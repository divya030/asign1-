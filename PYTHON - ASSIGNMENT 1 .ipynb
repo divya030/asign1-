{
 "cells": [
  {
   "cell_type": "raw",
   "metadata": {},
   "source": [
    "1.In the below elements which of them are values or an expression? eg:- values can be\n",
    "integer or string and expressions will be mathematical operators.\n",
    "\n",
    "* - expression\n",
    "'hello' - values\n",
    "-87.8 - values \n",
    "- - expression\n",
    "/ - expression \n",
    "+ - expression \n",
    "6 - values "
   ]
  },
  {
   "cell_type": "raw",
   "metadata": {},
   "source": [
    "2. What is the difference between string and variable?\n",
    "\n",
    "\n",
    "string - \n",
    "-- is a sequence datatype with collection of charecters (letters,numbers,spaces,punctuatuin,special charecters) which is immutable and enclosed within a single quotes,double quotes or triple quotes.\n",
    "-- Multi line strings should be inside a triple quotes. if the output has to be in single quotes then the string should be enclosed within a double quotes and wise-versa.\n",
    "-- string has inbuit functions like capitalize,center,find, index and many more.\n",
    "-- eg: \"hello\",\"hi\"\n",
    "\n",
    "variables - \n",
    "-- is a name given to a memory location.\n",
    "-- the values stored in variables can be changed \n",
    "-- a variable name must start with an alpha-numeric charecters or an underscore.\n",
    "-- variables cannot be an integer \n",
    "-- the changes made with the operators will affect the variable value \n",
    "-- variables are case sensitive (eg:asd,Asd,ASD,aSD are different)\n",
    "-- Reseved keywords cannot be used for naming the variables (True,False,and,or,continue etc)\n",
    "-- eg: x=10, y=\"asd345\""
   ]
  },
  {
   "cell_type": "raw",
   "metadata": {},
   "source": [
    "3. Describe three different data types.\n",
    "\n",
    "\n",
    "Numeric - \n",
    "-- defines a data which has numeric values which can be an integer, float or complex number.\n",
    "   -- INTEGER - is an numeric value of both positive and negative whole numbers.\n",
    "              - class int is used for representation.\n",
    "              - eg: 4556,67\n",
    "   -- Float   - the numbers will be in decimal points and not a whole number.\n",
    "              - class float for representation.\n",
    "              - eg: 45.56,5.6666\n",
    "   -- complex - is a combination of real and imaginary number.\n",
    "              - imaginary part is represented by j in python\n",
    "              - class complex for representation.\n",
    "              - eg: 43+6j\n",
    "\n",
    "List - \n",
    "-- is an ordered collection of data inside a square bracket []\n",
    "-- is mutable and can have list inside list (nested list)\n",
    "-- supports different datatypes inside a list.\n",
    "-- can perform various operation by using inbuilt functions (append,insert,pop,reverse etc).\n",
    "-- can have access through the data by using sclicing or indexing method.\n",
    "-- can modify or change the data ina a list by assingment(=) operator.\n",
    "-- list allows duplicating elements with its definite indexes.\n",
    "-- class list for representation.\n",
    "\n",
    "Set - \n",
    "-- is an unordered collection of data inside a curly braces {}.\n",
    "-- does not hold duplicate elements in it.\n",
    "-- slicing and indexing is not possible as it is an unordered data.\n",
    "-- cannot have a list as it is an ordered collection of data and mutable.\n",
    "-- class set for representation."
   ]
  },
  {
   "cell_type": "raw",
   "metadata": {},
   "source": [
    "4. What is an expression made up of? What do all expressions do?\n",
    "\n",
    "-- An expression is a combination of variables, operators and functions. \n",
    "-- Python will evaluate the expression to display the final results as a single value. \n",
    "-- The expression gets evaluated based on precedence of its operator if there is more than one operator.\n",
    "-- Python follows PEMDAS rule - Parentheses, Exponents, Multiplication, Division,  Addition and Subtraction.\n"
   ]
  },
  {
   "cell_type": "raw",
   "metadata": {},
   "source": [
    "5. This assignment statements, like spam = 10. What is the difference between an\n",
    "expression and a statement?\n",
    "\n",
    "\n",
    "Statements - \n",
    "-- is an instruction given by the user to execute like creating a variables or displaying the values.\n",
    "-- It cannot evaluate to value like expressions.\n",
    "-- like the above eg: spam = 10, which can only execute the instruction given.\n",
    "-- More statements other than assignment statements are if statements, for statements, while statements etc.\n",
    "\n",
    "Expression - \n",
    "-- whereas it evalutes the expression to value as a final result.\n",
    "-- is a combination of variables, operators and functions. \n",
    "-- It follows the PEMDAS precedence rule.\n",
    "-- eg: bacon = 22+2*(4-2) is an expression."
   ]
  },
  {
   "cell_type": "raw",
   "metadata": {},
   "source": [
    "6. After running the following code, what does the variable bacon contain?\n",
    "bacon = 22\n",
    "bacon + 1\n",
    "\n",
    "22"
   ]
  },
  {
   "cell_type": "raw",
   "metadata": {},
   "source": [
    "7. What should the values of the following two terms be?\n",
    "'spam' + 'spamspam'\n",
    "'spam' * 3\n",
    "\n",
    "\n",
    "-- 'spam' + 'spamspam'-- 'spamspamspam'\n",
    "-- 'spam' * 3 -- 'spamspamspam'"
   ]
  },
  {
   "cell_type": "raw",
   "metadata": {},
   "source": [
    "8. Why is eggs a valid variable name while 100 is invalid?\n",
    "\n",
    "\n",
    "-- Because variables cannot be an integer(100) or starts with an integer. \n",
    "-- whereas egg is an alphabetic charecters which is a valid variables. "
   ]
  },
  {
   "cell_type": "raw",
   "metadata": {},
   "source": [
    "9. What three functions can be used to get the integer, floating-point number, or string\n",
    "version of a value?\n",
    "\n",
    "\n",
    "-- For integer               -- int() funcntion is used.\n",
    "-- For floating-point number -- float() funcntion is used.\n",
    "-- For string                -- str() funcntion is used.\n"
   ]
  },
  {
   "cell_type": "raw",
   "metadata": {},
   "source": [
    "10. Why does this expression cause an error? How can you fix it?\n",
    "'I have eaten' + 99 + 'burritos'\n",
    "\n",
    "-- Because concatenate can be done for same datatype not for different data types.\n",
    "-- 99 is an integer where others are string so not possible.\n",
    "-- to fix it integer 99 can be converted to string by using str() to perform concatenation."
   ]
  },
  {
   "cell_type": "code",
   "execution_count": 6,
   "metadata": {},
   "outputs": [
    {
     "data": {
      "text/plain": [
       "'I have eaten99burritos'"
      ]
     },
     "execution_count": 6,
     "metadata": {},
     "output_type": "execute_result"
    }
   ],
   "source": [
    "# original code --  'I have eaten' + 99 + 'burritos'\n",
    "\n",
    "# revised code \n",
    "\n",
    "a = 'I have eaten' + str(99) + 'burritos'\n",
    "a"
   ]
  }
 ],
 "metadata": {
  "kernelspec": {
   "display_name": "Python 3",
   "language": "python",
   "name": "python3"
  },
  "language_info": {
   "codemirror_mode": {
    "name": "ipython",
    "version": 3
   },
   "file_extension": ".py",
   "mimetype": "text/x-python",
   "name": "python",
   "nbconvert_exporter": "python",
   "pygments_lexer": "ipython3",
   "version": "3.8.5"
  }
 },
 "nbformat": 4,
 "nbformat_minor": 4
}
