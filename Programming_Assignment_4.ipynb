{
 "cells": [
  {
   "cell_type": "code",
   "execution_count": 10,
   "metadata": {},
   "outputs": [
    {
     "name": "stdout",
     "output_type": "stream",
     "text": [
      "Enter the number:6\n",
      "The Factorial of 6 is 720\n"
     ]
    }
   ],
   "source": [
    "# 1. Write a Python Program to Find the Factorial of a Number?\n",
    "\n",
    "try:\n",
    "    n=int(input(\"Enter the number:\"))\n",
    "    a=1\n",
    "    for i in range (1,n+1):\n",
    "        a=a*i\n",
    "    print(f\"The Factorial of {n} is {a}\")\n",
    "except Exception as e:\n",
    "    print(\"Error:\",e)"
   ]
  },
  {
   "cell_type": "code",
   "execution_count": 17,
   "metadata": {},
   "outputs": [
    {
     "name": "stdout",
     "output_type": "stream",
     "text": [
      "The multiplication table for the number:10\n",
      "10 * 1 = 10\n",
      "10 * 2 = 20\n",
      "10 * 3 = 30\n",
      "10 * 4 = 40\n",
      "10 * 5 = 50\n",
      "10 * 6 = 60\n",
      "10 * 7 = 70\n",
      "10 * 8 = 80\n",
      "10 * 9 = 90\n",
      "10 * 10 = 100\n"
     ]
    }
   ],
   "source": [
    "# 2. Write a Python Program to Display the multiplication Table?\n",
    "\n",
    "try:\n",
    "    n=int(input(\"The multiplication table for the number:\"))\n",
    "    a=1\n",
    "\n",
    "    for i in range (1,11):\n",
    "        a=n*i\n",
    "        print(f\"{n} * {i} = {a}\")\n",
    "        \n",
    "except Exception as e:\n",
    "    print(\"Error:\",e)"
   ]
  },
  {
   "cell_type": "code",
   "execution_count": 56,
   "metadata": {},
   "outputs": [
    {
     "name": "stdout",
     "output_type": "stream",
     "text": [
      "Enter the number:9\n",
      "0 1 1 2 3 5 8 13 21 "
     ]
    }
   ],
   "source": [
    "# 3. Write a Python Program to Print the Fibonacci sequence?\n",
    "\n",
    "try:\n",
    "    n=int(input(\"Enter the number:\"))\n",
    "    a=0\n",
    "    b=1\n",
    "    if n==1:\n",
    "        print(a)    \n",
    "    elif n>1:\n",
    "        print(a,b,end=\" \")\n",
    "        for i in range (0,n-2):\n",
    "            c=a+b\n",
    "            a=b\n",
    "            b=c\n",
    "            print(c,end=\" \")\n",
    "    else:\n",
    "        raise Exception (\"Enter a positive integer\")\n",
    "except Exception as e:\n",
    "    print(\"Error:\",e)"
   ]
  },
  {
   "cell_type": "code",
   "execution_count": 1,
   "metadata": {},
   "outputs": [
    {
     "name": "stdout",
     "output_type": "stream",
     "text": [
      "Enter a number:9474\n",
      "9474 is an Armstrong Number\n"
     ]
    }
   ],
   "source": [
    "# 4. Write a Python Program to Check Armstrong Number?\n",
    "\n",
    "try:\n",
    "    n=input(\"Enter a number:\")\n",
    "    l=list(n)\n",
    "    summ=0\n",
    "    if int(n)>=0:\n",
    "        for i in l:\n",
    "            i=int(i)\n",
    "            summ+=i**len(l)\n",
    "        if summ != int(n):\n",
    "            print(f\"{n} is an not Armstrong Number\")\n",
    "        else:\n",
    "            print(f\"{n} is an Armstrong Number\")\n",
    "    else:\n",
    "        raise Exception (\"Enter a positive integer\")\n",
    "    \n",
    "except Exception as e:\n",
    "    print(\"Error:\",e)"
   ]
  },
  {
   "cell_type": "code",
   "execution_count": 187,
   "metadata": {},
   "outputs": [
    {
     "name": "stdout",
     "output_type": "stream",
     "text": [
      "The ranges between:100\n",
      "The ranges between:10000\n",
      "The armstrong numbers between 100 and 10000 is [153, 370, 371, 407, 1634, 8208, 9474]\n"
     ]
    }
   ],
   "source": [
    "# 5.Write a Python Program to Find Armstrong Number in an Interval?\n",
    "\n",
    "try:\n",
    "    n=int(input(\"The ranges between:\"))\n",
    "    n1=int(input(\"The ranges between:\"))\n",
    "    l1=[]\n",
    "    if n>=1 and n1>=1:\n",
    "        for i in range (n,n1):\n",
    "            summ=0\n",
    "            l=list(str(i))\n",
    "            lenn=len(l)\n",
    "            for j in l:\n",
    "                a=int(j)**lenn\n",
    "                summ+=a\n",
    "            if summ==i:\n",
    "                l1.append(i)\n",
    "        if len(l1)>=1:\n",
    "            print(f\"The armstrong numbers between {n} and {n1} is {l1}\")\n",
    "        else:\n",
    "            print(f\"There is no armstrong numbers between {n} and {n1}\")\n",
    "    else:\n",
    "        raise Exception (\"Enter a valid integer\")\n",
    "except Exception as e:\n",
    "    print(\"Error:\",e)"
   ]
  },
  {
   "cell_type": "code",
   "execution_count": 206,
   "metadata": {},
   "outputs": [
    {
     "name": "stdout",
     "output_type": "stream",
     "text": [
      "Enter the number:34\n",
      "The sum of first 34 natural number is 595\n"
     ]
    }
   ],
   "source": [
    "# 6. Write a Python Program to Find the Sum of Natural Numbers?\n",
    "\n",
    "try:\n",
    "    n=int(input(\"Enter the number:\"))\n",
    "    if n>=1:\n",
    "        a= n*(n+1)//2\n",
    "        print(f\"The sum of first {n} natural number is {a}\")\n",
    "    else:\n",
    "        raise Exception (\"Enter a valid integer\")\n",
    "except Exception as e:\n",
    "    print(\"Error:\",e)"
   ]
  }
 ],
 "metadata": {
  "kernelspec": {
   "display_name": "Python 3",
   "language": "python",
   "name": "python3"
  },
  "language_info": {
   "codemirror_mode": {
    "name": "ipython",
    "version": 3
   },
   "file_extension": ".py",
   "mimetype": "text/x-python",
   "name": "python",
   "nbconvert_exporter": "python",
   "pygments_lexer": "ipython3",
   "version": "3.8.5"
  }
 },
 "nbformat": 4,
 "nbformat_minor": 4
}
