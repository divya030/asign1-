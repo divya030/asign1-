{
 "cells": [
  {
   "cell_type": "code",
   "execution_count": 22,
   "metadata": {},
   "outputs": [
    {
     "name": "stdout",
     "output_type": "stream",
     "text": [
      "enter kilometer:55.45\n",
      "55.45 km is equivalent to 34.4566 miles\n"
     ]
    }
   ],
   "source": [
    "# 1. Write a Python program to convert kilometers to miles?\n",
    "\n",
    "try:\n",
    "    km=float(input(\"enter kilometer:\"))\n",
    "    mi=0.6214*km\n",
    "    print(f\"{km} km is equivalent to {round(mi,4)} miles\")\n",
    "except Exception as e:\n",
    "    print(\"Error:\",e)"
   ]
  },
  {
   "cell_type": "code",
   "execution_count": 29,
   "metadata": {},
   "outputs": [
    {
     "name": "stdout",
     "output_type": "stream",
     "text": [
      "enter the celsius value:28\n",
      "28.0 Celsius is equivalent to 82.4 Fahrenheit\n"
     ]
    }
   ],
   "source": [
    "# 2. Write a Python program to convert Celsius to Fahrenheit?\n",
    "\n",
    "try:\n",
    "    c=float(input(\"enter the celsius value:\"))\n",
    "    f=c*1.8000+32.00\n",
    "    print(f\"{c} Celsius is equivalent to {f} Fahrenheit\")\n",
    "except Exception as e:\n",
    "    print(\"Error:\",e)"
   ]
  },
  {
   "cell_type": "code",
   "execution_count": 50,
   "metadata": {},
   "outputs": [
    {
     "name": "stdout",
     "output_type": "stream",
     "text": [
      "Please mention the year:2022\n",
      "                                               2022\n",
      "\n",
      "      January                   February                   March                     April\n",
      "Mo Tu We Th Fr Sa Su      Mo Tu We Th Fr Sa Su      Mo Tu We Th Fr Sa Su      Mo Tu We Th Fr Sa Su\n",
      "                1  2          1  2  3  4  5  6          1  2  3  4  5  6                   1  2  3\n",
      " 3  4  5  6  7  8  9       7  8  9 10 11 12 13       7  8  9 10 11 12 13       4  5  6  7  8  9 10\n",
      "10 11 12 13 14 15 16      14 15 16 17 18 19 20      14 15 16 17 18 19 20      11 12 13 14 15 16 17\n",
      "17 18 19 20 21 22 23      21 22 23 24 25 26 27      21 22 23 24 25 26 27      18 19 20 21 22 23 24\n",
      "24 25 26 27 28 29 30      28                        28 29 30 31               25 26 27 28 29 30\n",
      "31\n",
      "\n",
      "        May                       June                      July                     August\n",
      "Mo Tu We Th Fr Sa Su      Mo Tu We Th Fr Sa Su      Mo Tu We Th Fr Sa Su      Mo Tu We Th Fr Sa Su\n",
      "                   1             1  2  3  4  5                   1  2  3       1  2  3  4  5  6  7\n",
      " 2  3  4  5  6  7  8       6  7  8  9 10 11 12       4  5  6  7  8  9 10       8  9 10 11 12 13 14\n",
      " 9 10 11 12 13 14 15      13 14 15 16 17 18 19      11 12 13 14 15 16 17      15 16 17 18 19 20 21\n",
      "16 17 18 19 20 21 22      20 21 22 23 24 25 26      18 19 20 21 22 23 24      22 23 24 25 26 27 28\n",
      "23 24 25 26 27 28 29      27 28 29 30               25 26 27 28 29 30 31      29 30 31\n",
      "30 31\n",
      "\n",
      "     September                  October                   November                  December\n",
      "Mo Tu We Th Fr Sa Su      Mo Tu We Th Fr Sa Su      Mo Tu We Th Fr Sa Su      Mo Tu We Th Fr Sa Su\n",
      "          1  2  3  4                      1  2          1  2  3  4  5  6                1  2  3  4\n",
      " 5  6  7  8  9 10 11       3  4  5  6  7  8  9       7  8  9 10 11 12 13       5  6  7  8  9 10 11\n",
      "12 13 14 15 16 17 18      10 11 12 13 14 15 16      14 15 16 17 18 19 20      12 13 14 15 16 17 18\n",
      "19 20 21 22 23 24 25      17 18 19 20 21 22 23      21 22 23 24 25 26 27      19 20 21 22 23 24 25\n",
      "26 27 28 29 30            24 25 26 27 28 29 30      28 29 30                  26 27 28 29 30 31\n",
      "                          31\n",
      "\n"
     ]
    }
   ],
   "source": [
    "# 3. Write a Python program to display calendar?\n",
    "\n",
    "import calendar\n",
    "try:\n",
    "    year=int(input(\"Please mention the year:\"))\n",
    "    a=calendar.calendar(year,m=4)\n",
    "    print(a)\n",
    "except Exception as e:\n",
    "    print(\"Error:\",e)"
   ]
  },
  {
   "cell_type": "code",
   "execution_count": 74,
   "metadata": {},
   "outputs": [
    {
     "name": "stdout",
     "output_type": "stream",
     "text": [
      "Enter the value of a (a!=0):1\n",
      "Enter the value of b:4\n",
      "Enter the value of c:5\n",
      "The results are for the equation: (1x**2)+(4x)+(5)=0\n",
      "Type of roots: Two Complex Roots\n",
      "The solutions are (-2-1j) and (-2+1j)\n"
     ]
    }
   ],
   "source": [
    "# 4. Write a Python program to solve quadratic equation?\n",
    "\n",
    "import cmath\n",
    "\n",
    "try:\n",
    "    a=int(input(\"Enter the value of a (a!=0):\"))\n",
    "    b=int(input(\"Enter the value of b:\"))\n",
    "    c=int(input(\"Enter the value of c:\"))\n",
    "\n",
    "    # d=(-b)+(sqrt((b**2)-4*a*c))/2*a\n",
    "\n",
    "    x=(b**2)-(4*a*c)\n",
    "\n",
    "    sol_1=(-b-cmath.sqrt(x))/(2*a)\n",
    "    sol_2=(-b+cmath.sqrt(x))/(2*a)\n",
    "\n",
    "    print(f\"The results are for the equation: ({a}x**2)+({b}x)+({c})=0\")\n",
    "\n",
    "    if x>0:\n",
    "        print(\"Type of roots: Two Distinct Real Roots\")\n",
    "    elif x==0:\n",
    "        print(\"Type of roots: Two Equal Real Roots\")\n",
    "    elif x<0:\n",
    "        print(\"Type of roots: Two Complex Roots\")\n",
    "\n",
    "    print(f\"The solutions are {sol_1} and {sol_2}\")\n",
    "    \n",
    "except Exception as e:\n",
    "    print(\"Error:\",e)"
   ]
  },
  {
   "cell_type": "code",
   "execution_count": 55,
   "metadata": {},
   "outputs": [
    {
     "name": "stdout",
     "output_type": "stream",
     "text": [
      "value of a:34\n",
      "value of b:43\n",
      "----------------\n",
      "value of a is 43\n",
      "value of b is 34\n"
     ]
    }
   ],
   "source": [
    "# 5. Write a Python program to swap two variables without temp variable?\n",
    "\n",
    "try:\n",
    "    a=input(\"value of a:\")\n",
    "    b=input(\"value of b:\")\n",
    "    print(\"----------------\")\n",
    "    a,b=b,a\n",
    "    print(f\"value of a is {a}\")\n",
    "    print(f\"value of b is {b}\")\n",
    "except Exception as e:\n",
    "    print(\"Error:\",e)"
   ]
  }
 ],
 "metadata": {
  "kernelspec": {
   "display_name": "Python 3",
   "language": "python",
   "name": "python3"
  },
  "language_info": {
   "codemirror_mode": {
    "name": "ipython",
    "version": 3
   },
   "file_extension": ".py",
   "mimetype": "text/x-python",
   "name": "python",
   "nbconvert_exporter": "python",
   "pygments_lexer": "ipython3",
   "version": "3.8.5"
  }
 },
 "nbformat": 4,
 "nbformat_minor": 4
}
